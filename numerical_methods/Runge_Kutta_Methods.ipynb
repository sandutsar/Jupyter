{
  "nbformat": 4,
  "nbformat_minor": 0,
  "metadata": {
    "colab": {
      "provenance": [],
      "collapsed_sections": []
    },
    "kernelspec": {
      "name": "python3",
      "display_name": "Python 3"
    },
    "language_info": {
      "name": "python"
    }
  },
  "cells": [
    {
      "cell_type": "markdown",
      "source": [
        "Runga Kutta methods are used to approximate the value to simultaneous non-linear differential equations. <br>\n",
        "More about Runga Kutta Methods [here](https://en.wikipedia.org/wiki/Runge%E2%80%93Kutta_methods).\n",
        "\n",
        "Here we will try to solve the following three equations with unknown variables S, I and R.\n",
        "\n",
        "\\begin{equation}\n",
        "\\frac{d S(t)}{d t}=A-\\mu S(t)-\\frac{r I}{N_0} S(t)\n",
        "\\end{equation}\n",
        "<br>\n",
        "$$\n",
        "\\frac{d I(t)}{d t}=\\frac{r I(t)}{N_0} S(t)-(\\mu+a) I(t)\n",
        "$$\n",
        "<br>\n",
        "$$\n",
        "\\frac{d R(t)}{d t}=a I(t)-\\mu R(t)\n",
        "$$\n",
        "<br>\n",
        "&emsp;&emsp;&emsp;&emsp;&emsp;&emsp;&emsp;&emsp;&emsp;\n",
        "where, $\\mathrm{S}(\\mathrm{t})+\\mathrm{I}(\\mathrm{t})+\\mathrm{R}(\\mathrm{t})=\\mathrm{N}(\\mathrm{t})$\n",
        "<br><br>\n",
        "$$\n",
        "=>\\frac{N(t)}{d t}=A-\\mu N\n",
        "$$\n",
        "\n",
        "These equations have a physical significance also, they represent the SIR model for the transmission of tuberclosis as documented [here](https://drive.google.com/file/d/1t2Rgh1jdEmT_aJ7RKAkDf0ZH_lhFM2sp/view?usp=sharing). \n",
        "\n",
        "S, I and R represent the following three kinds of people:\n",
        "\n",
        "\n",
        "1.   S: The first category is individuals who have not been infected with the TB virus, sometimes known as the suspicion group.  \n",
        "2.   I: The second category consists of people who have been infected with the TB virus.\n",
        "3.   R: The last category consists of people who recovered or died\n",
        "after being infected with the TB virus.\n",
        "\n",
        "\n",
        "\n",
        "\n",
        "Other than S, I and R, all other terms are constants, and the equations can be represented as follows:"
      ],
      "metadata": {
        "id": "JCXtWuN-BYzF"
      }
    },
    {
      "cell_type": "code",
      "source": [
        "def dS_dt(S, I, R, t):\n",
        "    return (1449401 -  0.001167*S - (0.5/1449401)*I*S)"
      ],
      "metadata": {
        "id": "NqEw5s-KgR1g"
      },
      "execution_count": 18,
      "outputs": []
    },
    {
      "cell_type": "code",
      "source": [
        "def dI_dt(S, I, R, t):\n",
        "    return ((0.5/1449401)*I*S - (0.001167 + 0.111111)*I)"
      ],
      "metadata": {
        "id": "TH77cRchhc6-"
      },
      "execution_count": 19,
      "outputs": []
    },
    {
      "cell_type": "code",
      "source": [
        "def dR_dt(S, I, R, t):\n",
        "    return  (0.111111*I - 0.001167*R)"
      ],
      "metadata": {
        "id": "GxXtTA92kJRB"
      },
      "execution_count": 20,
      "outputs": []
    },
    {
      "cell_type": "code",
      "source": [
        "t = int(input())  # Enter a required value of time where you want the value of S, I and R."
      ],
      "metadata": {
        "colab": {
          "base_uri": "https://localhost:8080/"
        },
        "id": "snFbzheU5k8S",
        "outputId": "855bae9e-af27-48ad-b2e3-327277207cf8"
      },
      "execution_count": 22,
      "outputs": [
        {
          "name": "stdout",
          "output_type": "stream",
          "text": [
            "10\n"
          ]
        }
      ]
    },
    {
      "cell_type": "code",
      "source": [
        "S_data = []\n",
        "I_data = []\n",
        "R_data = []\n",
        "SIR_data = []\n",
        "N_data = []\n",
        "Time = []"
      ],
      "metadata": {
        "id": "KVl7jTB_Q6nq"
      },
      "execution_count": 23,
      "outputs": []
    },
    {
      "cell_type": "markdown",
      "source": [
        "**Runge-Kutta method implementation with S,I,R as dependent variables and t as independent variable**"
      ],
      "metadata": {
        "id": "uWlRx0N7sdwt"
      }
    },
    {
      "cell_type": "code",
      "source": [
        "def rungeKutta(S0, I0, R0, t, h):\n",
        "\n",
        "  # No of iterations = n\n",
        "  # Step size = h\n",
        "    n = (int)((t)/h)\n",
        "  \n",
        "  # setting initial values\n",
        "    S = S0\n",
        "    I = I0\n",
        "    R = R0\n",
        "\n",
        "  # implementation of runge-kutta\n",
        "    for i in range(1, n + 1):\n",
        "        kS1 = dS_dt(S, I, R, t)\n",
        "        kI1 = dI_dt(S, I, R, t)\n",
        "        kR1 = dR_dt(S, I, R, t)\n",
        "        \n",
        "        kS2 = dS_dt(S + 0.5 * h * kS1, I + 0.5 * h * kI1, R + 0.5 * h * kR1, t + 0.5*h)\n",
        "        kI2 = dI_dt(S + 0.5 * h * kS1, I + 0.5 * h * kI1, R + 0.5 * h * kR1, t + 0.5*h)\n",
        "        kR2 = dR_dt(S + 0.5 * h * kS1, I + 0.5 * h * kI1, R + 0.5 * h * kR1, t + 0.5*h)\n",
        "\n",
        "        kS3 = dS_dt(S + 0.5 * h * kS2, I + 0.5 * h * kI2, R + 0.5 * h * kR2, t + 0.5*h)\n",
        "        kI3 = dI_dt(S + 0.5 * h * kS2, I + 0.5 * h * kI2, R + 0.5 * h * kR2, t + 0.5*h)\n",
        "        kR3 = dR_dt(S + 0.5 * h * kS2, I + 0.5 * h * kI2, R + 0.5 * h * kR2, t + 0.5*h)\n",
        "\n",
        "        kS4 = dS_dt(S + kS3 * h, I + kI3 * h, R + kR3 * h, t + h)\n",
        "        kI4 = dI_dt(S + kS3 * h, I + kI3 * h, R + kR3 * h, t + h)\n",
        "        kR4 = dR_dt(S + kS3 * h, I + kI3 * h, R + kR3 * h, t + h)\n",
        " \n",
        "        # Updating S, I, R\n",
        "        S = S + (1.0 / 6.0)*(kS1 + 2 * kS2 + 2 * kS3 + kS4)*h\n",
        "        I = I + (1.0 / 6.0)*(kI1 + 2 * kI2 + 2 * kI3 + kI4)*h\n",
        "        R = R + (1.0 / 6.0)*(kR1 + 2 * kR2 + 2 * kR3 + kR4)*h\n",
        "\n",
        "        S_data.append(S)\n",
        "        I_data.append(I)\n",
        "        R_data.append(R)\n",
        "        SIR_data.append(S+I+R)\n",
        "        Time.append(t)\n",
        "\n",
        "        # Updating value of t\n",
        "        t += h\n",
        "    \n",
        "    # printing N(t) at desired t (N(t)=S(t)+I(t)+R(t))\n",
        "    print(\"N(t) = \" ,S+I+R)\n",
        "    return [S,I,R]"
      ],
      "metadata": {
        "id": "-zl-oP5SOxbO"
      },
      "execution_count": 24,
      "outputs": []
    },
    {
      "cell_type": "code",
      "source": [
        "# Driver Code\n",
        "S0 = 1446093\n",
        "I0 = 1885\n",
        "R0 = 1423\n",
        "h = 0.01\n",
        "print ('The value of S(t), I(t) and R(t) is:', rungeKutta(S0, I0, R0, t, h)) "
      ],
      "metadata": {
        "id": "KmEB8JRcIlCw",
        "colab": {
          "base_uri": "https://localhost:8080/"
        },
        "outputId": "e8af4878-e13a-4ebe-e820-59c5e12918d5"
      },
      "execution_count": 25,
      "outputs": [
        {
          "output_type": "stream",
          "name": "stdout",
          "text": [
            "N(t) =  15842350.284962129\n",
            "The value of S(t), I(t) and R(t) is: [410394.8072337986, 10323985.625711355, 5107969.852016973]\n"
          ]
        }
      ]
    },
    {
      "cell_type": "markdown",
      "source": [
        "**Runge-Kutta method implementation with N as dependent variable and t as independent variable**"
      ],
      "metadata": {
        "id": "YaT1SXaUsvc5"
      }
    },
    {
      "cell_type": "markdown",
      "source": [
        "We implemented it just to prove that the equation N(t) = S(t)+I(t)+R(t) is consistent with the values of S,I,R we got above for the same value of t."
      ],
      "metadata": {
        "id": "vPhSPAG_s1z5"
      }
    },
    {
      "cell_type": "code",
      "source": [
        "def dN_dt(t, N):\n",
        "\treturn (1449401-0.001167*N)\n",
        "\n",
        "# implementing runge kutta method for ODE: dN/dt = A - m*N where m is death rate\n",
        "def rungeKutta(t0, A, t, h):\n",
        "\n",
        "\t# no. of iterations = n\n",
        "\t# step size = h\n",
        "\tn = (int)((t - t0)/h)\n",
        "\t\n",
        "\tN = A\n",
        "\tfor i in range(1, n + 1):\n",
        "\t\tk1 = dN_dt(t0, N)\n",
        "\t\tk2 = dN_dt(t0 + 0.5 * h, N + 0.5 * h * k1)\n",
        "\t\tk3 = dN_dt(t0 + 0.5 * h, N + 0.5 * h * k2)\n",
        "\t\tk4 = dN_dt(t0 + h, N + h * k3)\n",
        "\n",
        "\t\t# Update value of y\n",
        "\t\tN = N + (1.0 / 6.0)*(k1 + 2 * k2 + 2 * k3 + k4)*h\n",
        "\t\tN_data.append(N)\n",
        "\n",
        "\t\t# Update next value of t0\n",
        "\t\tt0 += h\n",
        "\treturn N\n",
        "\n",
        "# Driver Code\n",
        "t0 = 0\n",
        "A = 1449401\n",
        "h = 0.01\n",
        "print ('The value of N(t) at required t is:', rungeKutta(t0, A, t, h))"
      ],
      "metadata": {
        "id": "ydrVeL51kVuu",
        "colab": {
          "base_uri": "https://localhost:8080/"
        },
        "outputId": "928c42e2-27e7-4567-8f2b-5b143d0391ac"
      },
      "execution_count": 26,
      "outputs": [
        {
          "output_type": "stream",
          "name": "stdout",
          "text": [
            "The value of N(t) at required t is: 15842350.284962097\n"
          ]
        }
      ]
    },
    {
      "cell_type": "code",
      "source": [
        "# print(S_data)"
      ],
      "metadata": {
        "id": "qrXWMyh7Wy03"
      },
      "execution_count": 27,
      "outputs": []
    },
    {
      "cell_type": "code",
      "source": [
        "# print(I_data)"
      ],
      "metadata": {
        "id": "zSjyo5IDkMeT"
      },
      "execution_count": 28,
      "outputs": []
    },
    {
      "cell_type": "code",
      "source": [
        "# print(R_data)"
      ],
      "metadata": {
        "id": "J8oCbC9FkNr8"
      },
      "execution_count": 29,
      "outputs": []
    },
    {
      "cell_type": "code",
      "source": [
        "# print(Time)"
      ],
      "metadata": {
        "id": "rGsiEb3zkUpd"
      },
      "execution_count": 30,
      "outputs": []
    },
    {
      "cell_type": "code",
      "source": [
        "# print(N_data)"
      ],
      "metadata": {
        "id": "59T-ht2x-9h5"
      },
      "execution_count": 31,
      "outputs": []
    },
    {
      "cell_type": "markdown",
      "source": [
        "**Variation of S, I, R and N with time.**"
      ],
      "metadata": {
        "id": "HoWaiRbBK5C3"
      }
    },
    {
      "cell_type": "code",
      "source": [
        "import math\n",
        "import numpy as np\n",
        "import matplotlib.pyplot as plt\n",
        "t = np.linspace(20,38, 1000)\n",
        "plt.scatter(Time, S_data)"
      ],
      "metadata": {
        "colab": {
          "base_uri": "https://localhost:8080/",
          "height": 293
        },
        "id": "RouYbro0S9Cl",
        "outputId": "2c037811-2167-4a4b-f88f-8422f84d9a11"
      },
      "execution_count": 32,
      "outputs": [
        {
          "output_type": "execute_result",
          "data": {
            "text/plain": [
              "<matplotlib.collections.PathCollection at 0x7ff40cbf3590>"
            ]
          },
          "metadata": {},
          "execution_count": 32
        },
        {
          "output_type": "display_data",
          "data": {
            "text/plain": [
              "<Figure size 432x288 with 1 Axes>"
            ],
            "image/png": "[encoded data removed]"
          },
          "metadata": {
            "needs_background": "light"
          }
        }
      ]
    },
    {
      "cell_type": "code",
      "source": [
        "plt.scatter(Time, I_data)"
      ],
      "metadata": {
        "colab": {
          "base_uri": "https://localhost:8080/",
          "height": 293
        },
        "id": "nR549ji3ljC-",
        "outputId": "eef6d6cc-9fb1-4521-ba58-e250a72de7b4"
      },
      "execution_count": 33,
      "outputs": [
        {
          "output_type": "execute_result",
          "data": {
            "text/plain": [
              "<matplotlib.collections.PathCollection at 0x7ff40cbf3e10>"
            ]
          },
          "metadata": {},
          "execution_count": 33
        },
        {
          "output_type": "display_data",
          "data": {
            "text/plain": [
              "<Figure size 432x288 with 1 Axes>"
            ],
            "image/png": "[encoded data removed]"
          },
          "metadata": {
            "needs_background": "light"
          }
        }
      ]
    },
    {
      "cell_type": "code",
      "source": [
        "plt.scatter(Time, R_data)"
      ],
      "metadata": {
        "colab": {
          "base_uri": "https://localhost:8080/",
          "height": 293
        },
        "id": "EmJtZ1aLljYH",
        "outputId": "e12b863b-2f6a-43fe-abdd-c858ee83d008"
      },
      "execution_count": 34,
      "outputs": [
        {
          "output_type": "execute_result",
          "data": {
            "text/plain": [
              "<matplotlib.collections.PathCollection at 0x7ff40c9e3710>"
            ]
          },
          "metadata": {},
          "execution_count": 34
        },
        {
          "output_type": "display_data",
          "data": {
            "text/plain": [
              "<Figure size 432x288 with 1 Axes>"
            ],
            "image/png": "[encoded data removed]"
          },
          "metadata": {
            "needs_background": "light"
          }
        }
      ]
    },
    {
      "cell_type": "code",
      "source": [
        "plt.scatter(Time, N_data)"
      ],
      "metadata": {
        "colab": {
          "base_uri": "https://localhost:8080/",
          "height": 293
        },
        "id": "uN90E-c4ljkh",
        "outputId": "7d10ea76-834d-425f-d9ca-fff71cd1ff02"
      },
      "execution_count": 35,
      "outputs": [
        {
          "output_type": "execute_result",
          "data": {
            "text/plain": [
              "<matplotlib.collections.PathCollection at 0x7ff40c9c4dd0>"
            ]
          },
          "metadata": {},
          "execution_count": 35
        },
        {
          "output_type": "display_data",
          "data": {
            "text/plain": [
              "<Figure size 432x288 with 1 Axes>"
            ],
            "image/png": "[encoded data removed]"
          },
          "metadata": {
            "needs_background": "light"
          }
        }
      ]
    }
  ]
}
